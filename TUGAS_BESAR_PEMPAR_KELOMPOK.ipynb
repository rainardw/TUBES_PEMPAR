{
  "nbformat": 4,
  "nbformat_minor": 0,
  "metadata": {
    "colab": {
      "provenance": [],
      "authorship_tag": "ABX9TyMiIgbgrcHata0is/AmTI2m",
      "include_colab_link": true
    },
    "kernelspec": {
      "name": "python3",
      "display_name": "Python 3"
    },
    "language_info": {
      "name": "python"
    }
  },
  "cells": [
    {
      "cell_type": "markdown",
      "metadata": {
        "id": "view-in-github",
        "colab_type": "text"
      },
      "source": [
        "<a href=\"https://colab.research.google.com/github/rainardw/TUBES_PEMPAR/blob/main/TUGAS_BESAR_PEMPAR_KELOMPOK.ipynb\" target=\"_parent\"><img src=\"https://colab.research.google.com/assets/colab-badge.svg\" alt=\"Open In Colab\"/></a>"
      ]
    },
    {
      "cell_type": "code",
      "execution_count": 2,
      "metadata": {
        "colab": {
          "base_uri": "https://localhost:8080/"
        },
        "id": "PZyhDVO9cZVz",
        "outputId": "dbff2999-8f2d-4cbb-d5ea-ccafecb2c9b4"
      },
      "outputs": [
        {
          "output_type": "stream",
          "name": "stdout",
          "text": [
            "ANGGOTA KELOMPOK 7:\n",
            "ADITYA - F1D02310\n",
            "DATU REKSA HAMZA PUTRA - F1D02310\n",
            "KURNIA DWI SURYA - F1D02310013\n",
            "\n",
            "Link Dataset: https://www.kaggle.com/datasets/yug201/disease-cancer-heart-liver\n"
          ]
        }
      ],
      "source": [
        "# Anggota Kelompok\n",
        "group_members = {\n",
        "    \"ADITYA\": \"F1D02310\",\n",
        "    \"DATU REKSA HAMZA PUTRA\": \"F1D02310\",\n",
        "    \"KURNIA DWI SURYA\": \"F1D02310013\"\n",
        "}\n",
        "\n",
        "# Link Dataset Kaggle\n",
        "kaggle_link = \"https://www.kaggle.com/datasets/yug201/disease-cancer-heart-liver\"\n",
        "\n",
        "print(\"ANGGOTA KELOMPOK 7:\")\n",
        "for name, nim in group_members.items():\n",
        "    print(f\"{name} - {nim}\")\n",
        "\n",
        "print(\"\\nLink Dataset:\", kaggle_link)\n"
      ]
    },
    {
      "cell_type": "code",
      "source": [
        "from pyspark.sql.functions import lit\n",
        "from pyspark.sql.types import StringType, IntegerType\n",
        "from pyspark import SparkContext\n",
        "from pyspark.sql import SparkSession\n",
        "import pandas as pd\n",
        "import numpy as np\n",
        "import matplotlib.pyplot as plt\n",
        "import multiprocessing as mp\n",
        "from mpi4py import MPI"
      ],
      "metadata": {
        "id": "b5w3h6C14dwI"
      },
      "execution_count": null,
      "outputs": []
    },
    {
      "cell_type": "code",
      "source": [
        "!pip install pyspark\n",
        "sc = SparkContext.getOrCreate()\n",
        "spark = SparkSession.builder.appName(\"DiseaseAnalysis\").getOrCreate()"
      ],
      "metadata": {
        "colab": {
          "base_uri": "https://localhost:8080/"
        },
        "id": "bQExZVTRd5zu",
        "outputId": "1e420de3-95c9-46ee-dba0-47e08347af5d"
      },
      "execution_count": 41,
      "outputs": [
        {
          "output_type": "stream",
          "name": "stdout",
          "text": [
            "Requirement already satisfied: pyspark in /usr/local/lib/python3.11/dist-packages (3.5.1)\n",
            "Requirement already satisfied: py4j==0.10.9.7 in /usr/local/lib/python3.11/dist-packages (from pyspark) (0.10.9.7)\n"
          ]
        }
      ]
    },
    {
      "cell_type": "code",
      "source": [
        "rdd_heart = sc.textFile(\"heart.csv\")\n",
        "rdd_cancer = sc.textFile(\"cancer patient data sets.csv\")\n",
        "rdd_liver = sc.textFile(\"indian_liver_patient (1).csv\")\n",
        "\n",
        "header = rdd_heart.first()\n",
        "\n",
        "data_heart = rdd_heart.filter(lambda row: row != header)\n",
        "data_cancer = rdd_cancer.filter(lambda row: row != header)\n",
        "data_liver = rdd_liver.filter(lambda row: row != header)\n",
        "\n",
        "# Gabungkan semua data\n",
        "data_all = data_heart.union(data_cancer).union(data_liver)\n",
        "\n",
        "# Filter penyakit 'Heart Disease'\n",
        "filtered_heart = data_all.filter(lambda row: \"Heart Disease\" in row)\n",
        "\n",
        "# Tampilkan hasil\n",
        "print(\"Contoh baris dengan Heart Disease:\")\n",
        "print(filtered_heart.take(5))\n",
        "\n",
        "# Hitung jumlah kasus\n",
        "heart_count = filtered_heart.count()\n",
        "print(f\"Jumlah kasus Heart Disease: {heart_count}\")\n"
      ],
      "metadata": {
        "colab": {
          "base_uri": "https://localhost:8080/"
        },
        "id": "1weiOdSYy0CK",
        "outputId": "93ab2b9b-f726-476e-e873-d8dde96dcca3"
      },
      "execution_count": 60,
      "outputs": [
        {
          "output_type": "stream",
          "name": "stdout",
          "text": [
            "Contoh baris dengan Heart Disease:\n",
            "[]\n",
            "Jumlah kasus Heart Disease: 0\n"
          ]
        }
      ]
    },
    {
      "cell_type": "code",
      "source": [
        "# Buat SparkSession\n",
        "spark = SparkSession.builder.appName(\"AnalisisPenyakit\").getOrCreate()\n",
        "\n",
        "# Baca CSV\n",
        "df_heart = spark.read.csv(\"/heart.csv\", header=True, inferSchema=True)\n",
        "df_heart.show(5)\n",
        "df_heart.printSchema()\n",
        "\n",
        "df_cancer = spark.read.csv(\"/cancer patient data sets.csv\", header=True, inferSchema=True)\n",
        "df_cancer.show(5)\n",
        "df_cancer.printSchema()\n",
        "\n",
        "df_liver = spark.read.csv(\"/indian_liver_patient (1).csv\", header=True, inferSchema=True)\n",
        "df_liver.show(5)\n",
        "df_liver.printSchema()"
      ],
      "metadata": {
        "colab": {
          "base_uri": "https://localhost:8080/"
        },
        "id": "fj7bRnWAcp1F",
        "outputId": "64f19d99-731d-438c-baa0-6cd5f44f3381"
      },
      "execution_count": 51,
      "outputs": [
        {
          "output_type": "stream",
          "name": "stdout",
          "text": [
            "+---+---+-------------+---------+-----------+---------+----------+-----+--------------+-------+--------+------------+\n",
            "|Age|Sex|ChestPainType|RestingBP|Cholesterol|FastingBS|RestingECG|MaxHR|ExerciseAngina|Oldpeak|ST_Slope|HeartDisease|\n",
            "+---+---+-------------+---------+-----------+---------+----------+-----+--------------+-------+--------+------------+\n",
            "| 40|  M|          ATA|      140|        289|        0|    Normal|  172|             N|    0.0|      Up|           0|\n",
            "| 49|  F|          NAP|      160|        180|        0|    Normal|  156|             N|    1.0|    Flat|           1|\n",
            "| 37|  M|          ATA|      130|        283|        0|        ST|   98|             N|    0.0|      Up|           0|\n",
            "| 48|  F|          ASY|      138|        214|        0|    Normal|  108|             Y|    1.5|    Flat|           1|\n",
            "| 54|  M|          NAP|      150|        195|        0|    Normal|  122|             N|    0.0|      Up|           0|\n",
            "+---+---+-------------+---------+-----------+---------+----------+-----+--------------+-------+--------+------------+\n",
            "only showing top 5 rows\n",
            "\n",
            "root\n",
            " |-- Age: integer (nullable = true)\n",
            " |-- Sex: string (nullable = true)\n",
            " |-- ChestPainType: string (nullable = true)\n",
            " |-- RestingBP: integer (nullable = true)\n",
            " |-- Cholesterol: integer (nullable = true)\n",
            " |-- FastingBS: integer (nullable = true)\n",
            " |-- RestingECG: string (nullable = true)\n",
            " |-- MaxHR: integer (nullable = true)\n",
            " |-- ExerciseAngina: string (nullable = true)\n",
            " |-- Oldpeak: double (nullable = true)\n",
            " |-- ST_Slope: string (nullable = true)\n",
            " |-- HeartDisease: integer (nullable = true)\n",
            "\n",
            "+-----+----------+---+------+-------------+-----------+------------+--------------------+------------+--------------------+-------------+-------+-------+--------------+----------+-----------------+-------+-----------+-------------------+--------+---------------------+------------------------+-------------+---------+-------+------+\n",
            "|index|Patient Id|Age|Gender|Air Pollution|Alcohol use|Dust Allergy|OccuPational Hazards|Genetic Risk|chronic Lung Disease|Balanced Diet|Obesity|Smoking|Passive Smoker|Chest Pain|Coughing of Blood|Fatigue|Weight Loss|Shortness of Breath|Wheezing|Swallowing Difficulty|Clubbing of Finger Nails|Frequent Cold|Dry Cough|Snoring| Level|\n",
            "+-----+----------+---+------+-------------+-----------+------------+--------------------+------------+--------------------+-------------+-------+-------+--------------+----------+-----------------+-------+-----------+-------------------+--------+---------------------+------------------------+-------------+---------+-------+------+\n",
            "|    0|        P1| 33|     1|            2|          4|           5|                   4|           3|                   2|            2|      4|      3|             2|         2|                4|      3|          4|                  2|       2|                    3|                       1|            2|        3|      4|   Low|\n",
            "|    1|       P10| 17|     1|            3|          1|           5|                   3|           4|                   2|            2|      2|      2|             4|         2|                3|      1|          3|                  7|       8|                    6|                       2|            1|        7|      2|Medium|\n",
            "|    2|      P100| 35|     1|            4|          5|           6|                   5|           5|                   4|            6|      7|      2|             3|         4|                8|      8|          7|                  9|       2|                    1|                       4|            6|        7|      2|  High|\n",
            "|    3|     P1000| 37|     1|            7|          7|           7|                   7|           6|                   7|            7|      7|      7|             7|         7|                8|      4|          2|                  3|       1|                    4|                       5|            6|        7|      5|  High|\n",
            "|    4|      P101| 46|     1|            6|          8|           7|                   7|           7|                   6|            7|      7|      8|             7|         7|                9|      3|          2|                  4|       1|                    4|                       2|            4|        2|      3|  High|\n",
            "+-----+----------+---+------+-------------+-----------+------------+--------------------+------------+--------------------+-------------+-------+-------+--------------+----------+-----------------+-------+-----------+-------------------+--------+---------------------+------------------------+-------------+---------+-------+------+\n",
            "only showing top 5 rows\n",
            "\n",
            "root\n",
            " |-- index: integer (nullable = true)\n",
            " |-- Patient Id: string (nullable = true)\n",
            " |-- Age: integer (nullable = true)\n",
            " |-- Gender: integer (nullable = true)\n",
            " |-- Air Pollution: integer (nullable = true)\n",
            " |-- Alcohol use: integer (nullable = true)\n",
            " |-- Dust Allergy: integer (nullable = true)\n",
            " |-- OccuPational Hazards: integer (nullable = true)\n",
            " |-- Genetic Risk: integer (nullable = true)\n",
            " |-- chronic Lung Disease: integer (nullable = true)\n",
            " |-- Balanced Diet: integer (nullable = true)\n",
            " |-- Obesity: integer (nullable = true)\n",
            " |-- Smoking: integer (nullable = true)\n",
            " |-- Passive Smoker: integer (nullable = true)\n",
            " |-- Chest Pain: integer (nullable = true)\n",
            " |-- Coughing of Blood: integer (nullable = true)\n",
            " |-- Fatigue: integer (nullable = true)\n",
            " |-- Weight Loss: integer (nullable = true)\n",
            " |-- Shortness of Breath: integer (nullable = true)\n",
            " |-- Wheezing: integer (nullable = true)\n",
            " |-- Swallowing Difficulty: integer (nullable = true)\n",
            " |-- Clubbing of Finger Nails: integer (nullable = true)\n",
            " |-- Frequent Cold: integer (nullable = true)\n",
            " |-- Dry Cough: integer (nullable = true)\n",
            " |-- Snoring: integer (nullable = true)\n",
            " |-- Level: string (nullable = true)\n",
            "\n",
            "+---+------+---------------+----------------+--------------------+------------------------+--------------------------+--------------+-------+--------------------------+-------+\n",
            "|Age|Gender|Total_Bilirubin|Direct_Bilirubin|Alkaline_Phosphotase|Alamine_Aminotransferase|Aspartate_Aminotransferase|Total_Protiens|Albumin|Albumin_and_Globulin_Ratio|Dataset|\n",
            "+---+------+---------------+----------------+--------------------+------------------------+--------------------------+--------------+-------+--------------------------+-------+\n",
            "| 65|Female|            0.7|             0.1|                 187|                      16|                        18|           6.8|    3.3|                       0.9|      1|\n",
            "| 62|  Male|           10.9|             5.5|                 699|                      64|                       100|           7.5|    3.2|                      0.74|      1|\n",
            "| 62|  Male|            7.3|             4.1|                 490|                      60|                        68|           7.0|    3.3|                      0.89|      1|\n",
            "| 58|  Male|            1.0|             0.4|                 182|                      14|                        20|           6.8|    3.4|                       1.0|      1|\n",
            "| 72|  Male|            3.9|             2.0|                 195|                      27|                        59|           7.3|    2.4|                       0.4|      1|\n",
            "+---+------+---------------+----------------+--------------------+------------------------+--------------------------+--------------+-------+--------------------------+-------+\n",
            "only showing top 5 rows\n",
            "\n",
            "root\n",
            " |-- Age: integer (nullable = true)\n",
            " |-- Gender: string (nullable = true)\n",
            " |-- Total_Bilirubin: double (nullable = true)\n",
            " |-- Direct_Bilirubin: double (nullable = true)\n",
            " |-- Alkaline_Phosphotase: integer (nullable = true)\n",
            " |-- Alamine_Aminotransferase: integer (nullable = true)\n",
            " |-- Aspartate_Aminotransferase: integer (nullable = true)\n",
            " |-- Total_Protiens: double (nullable = true)\n",
            " |-- Albumin: double (nullable = true)\n",
            " |-- Albumin_and_Globulin_Ratio: double (nullable = true)\n",
            " |-- Dataset: integer (nullable = true)\n",
            "\n"
          ]
        }
      ]
    },
    {
      "cell_type": "code",
      "source": [
        "def cek_null(df, nama_dataset):\n",
        "    print(f\"\\nJumlah null pada dataset {nama_dataset}:\")\n",
        "    df.select([count(when(col(c).isNull(), c)).alias(c) for c in df.columns]).show()\n",
        "\n",
        "cek_null(df_heart, \"Heart\")\n",
        "cek_null(df_cancer, \"Cancer\")\n",
        "cek_null(df_liver, \"Liver\")"
      ],
      "metadata": {
        "colab": {
          "base_uri": "https://localhost:8080/"
        },
        "id": "aFUpaLNnh-VG",
        "outputId": "7f734207-f3b1-4552-a1e3-6914722b5d1e"
      },
      "execution_count": 21,
      "outputs": [
        {
          "output_type": "stream",
          "name": "stdout",
          "text": [
            "\n",
            "Jumlah null pada dataset Heart:\n",
            "+---+---+-------------+---------+-----------+---------+----------+-----+--------------+-------+--------+------------+\n",
            "|Age|Sex|ChestPainType|RestingBP|Cholesterol|FastingBS|RestingECG|MaxHR|ExerciseAngina|Oldpeak|ST_Slope|HeartDisease|\n",
            "+---+---+-------------+---------+-----------+---------+----------+-----+--------------+-------+--------+------------+\n",
            "|  0|  0|            0|        0|          0|        0|         0|    0|             0|      0|       0|           0|\n",
            "+---+---+-------------+---------+-----------+---------+----------+-----+--------------+-------+--------+------------+\n",
            "\n",
            "\n",
            "Jumlah null pada dataset Cancer:\n",
            "+-----+----------+---+------+-------------+-----------+------------+--------------------+------------+--------------------+-------------+-------+-------+--------------+----------+-----------------+-------+-----------+-------------------+--------+---------------------+------------------------+-------------+---------+-------+-----+\n",
            "|index|Patient Id|Age|Gender|Air Pollution|Alcohol use|Dust Allergy|OccuPational Hazards|Genetic Risk|chronic Lung Disease|Balanced Diet|Obesity|Smoking|Passive Smoker|Chest Pain|Coughing of Blood|Fatigue|Weight Loss|Shortness of Breath|Wheezing|Swallowing Difficulty|Clubbing of Finger Nails|Frequent Cold|Dry Cough|Snoring|Level|\n",
            "+-----+----------+---+------+-------------+-----------+------------+--------------------+------------+--------------------+-------------+-------+-------+--------------+----------+-----------------+-------+-----------+-------------------+--------+---------------------+------------------------+-------------+---------+-------+-----+\n",
            "|    0|         0|  0|     0|            0|          0|           0|                   0|           0|                   0|            0|      0|      0|             0|         0|                0|      0|          0|                  0|       0|                    0|                       0|            0|        0|      0|    0|\n",
            "+-----+----------+---+------+-------------+-----------+------------+--------------------+------------+--------------------+-------------+-------+-------+--------------+----------+-----------------+-------+-----------+-------------------+--------+---------------------+------------------------+-------------+---------+-------+-----+\n",
            "\n",
            "\n",
            "Jumlah null pada dataset Liver:\n",
            "+---+------+---------------+----------------+--------------------+------------------------+--------------------------+--------------+-------+--------------------------+-------+\n",
            "|Age|Gender|Total_Bilirubin|Direct_Bilirubin|Alkaline_Phosphotase|Alamine_Aminotransferase|Aspartate_Aminotransferase|Total_Protiens|Albumin|Albumin_and_Globulin_Ratio|Dataset|\n",
            "+---+------+---------------+----------------+--------------------+------------------------+--------------------------+--------------+-------+--------------------------+-------+\n",
            "|  0|     0|              0|               0|                   0|                       0|                         0|             0|      0|                         4|      0|\n",
            "+---+------+---------------+----------------+--------------------+------------------------+--------------------------+--------------+-------+--------------------------+-------+\n",
            "\n"
          ]
        }
      ]
    },
    {
      "cell_type": "code",
      "source": [
        "df_heart.groupBy(\"HeartDisease\").count().show()\n",
        "df_liver.groupBy(\"Dataset\").count().show()\n",
        "df_cancer.groupBy(\"Level\").count().show()"
      ],
      "metadata": {
        "colab": {
          "base_uri": "https://localhost:8080/"
        },
        "id": "-3-KVw5Qf1Ic",
        "outputId": "47fc6fd7-aa76-4672-d0be-ca492db401a8"
      },
      "execution_count": 25,
      "outputs": [
        {
          "output_type": "stream",
          "name": "stdout",
          "text": [
            "+------------+-----+\n",
            "|HeartDisease|count|\n",
            "+------------+-----+\n",
            "|           1|  508|\n",
            "|           0|  410|\n",
            "+------------+-----+\n",
            "\n",
            "+-------+-----+\n",
            "|Dataset|count|\n",
            "+-------+-----+\n",
            "|      1|  416|\n",
            "|      2|  167|\n",
            "+-------+-----+\n",
            "\n",
            "+------+-----+\n",
            "| Level|count|\n",
            "+------+-----+\n",
            "|  High|  365|\n",
            "|   Low|  303|\n",
            "|Medium|  332|\n",
            "+------+-----+\n",
            "\n"
          ]
        }
      ]
    },
    {
      "cell_type": "code",
      "source": [
        "print(\"\\nStatistik Heart Dataset:\")\n",
        "df_heart.select(\n",
        "    round(avg(\"Age\"), 2).alias(\"Rata-rata Usia\"),\n",
        "    round(avg(\"Cholesterol\"), 2).alias(\"Rata-rata Kolesterol\"),\n",
        "    round(avg(\"MaxHR\"), 2).alias(\"Rata-rata Detak Jantung Maks\")\n",
        ").show()"
      ],
      "metadata": {
        "colab": {
          "base_uri": "https://localhost:8080/"
        },
        "id": "gYgi4-A8mE3g",
        "outputId": "6242f7dc-ac1f-4c35-ddea-3e77f36dd82b"
      },
      "execution_count": 28,
      "outputs": [
        {
          "output_type": "stream",
          "name": "stdout",
          "text": [
            "\n",
            "Statistik Heart Dataset:\n",
            "+--------------+--------------------+----------------------------+\n",
            "|Rata-rata Usia|Rata-rata Kolesterol|Rata-rata Detak Jantung Maks|\n",
            "+--------------+--------------------+----------------------------+\n",
            "|         53.51|               198.8|                      136.81|\n",
            "+--------------+--------------------+----------------------------+\n",
            "\n"
          ]
        }
      ]
    },
    {
      "cell_type": "code",
      "source": [
        "from pyspark.sql.functions import avg, round\n",
        "\n",
        "df.select(\n",
        "    round(avg(\"Age\"), 2).alias(\"Rata-rata Usia\"),\n",
        "    round(avg(\"Cholesterol\"), 2).alias(\"Rata-rata Kolesterol\"),\n",
        "    round(avg(\"MaxHR\"), 2).alias(\"Rata-rata Detak Jantung Maks\")\n",
        ").show()"
      ],
      "metadata": {
        "colab": {
          "base_uri": "https://localhost:8080/"
        },
        "id": "5s4yDDAIf6dl",
        "outputId": "33bda4b0-3e0a-42de-f91d-cfbd988fd10d"
      },
      "execution_count": 27,
      "outputs": [
        {
          "output_type": "stream",
          "name": "stdout",
          "text": [
            "+--------------+--------------------+----------------------------+\n",
            "|Rata-rata Usia|Rata-rata Kolesterol|Rata-rata Detak Jantung Maks|\n",
            "+--------------+--------------------+----------------------------+\n",
            "|         53.51|               198.8|                      136.81|\n",
            "+--------------+--------------------+----------------------------+\n",
            "\n"
          ]
        }
      ]
    },
    {
      "cell_type": "code",
      "source": [
        "print(\"\\nPasien dengan kolesterol > 240 dan usia > 50:\")\n",
        "df_heart.filter((col(\"Cholesterol\") > 240) & (col(\"Age\") > 50)).show(5)"
      ],
      "metadata": {
        "colab": {
          "base_uri": "https://localhost:8080/"
        },
        "id": "ogz_gGq1f9yy",
        "outputId": "9fa444af-d306-4081-9bb3-e05683bc5ec1"
      },
      "execution_count": 26,
      "outputs": [
        {
          "output_type": "stream",
          "name": "stdout",
          "text": [
            "\n",
            "Pasien dengan kolesterol > 240 dan usia > 50:\n",
            "+---+---+-------------+---------+-----------+---------+----------+-----+--------------+-------+--------+------------+\n",
            "|Age|Sex|ChestPainType|RestingBP|Cholesterol|FastingBS|RestingECG|MaxHR|ExerciseAngina|Oldpeak|ST_Slope|HeartDisease|\n",
            "+---+---+-------------+---------+-----------+---------+----------+-----+--------------+-------+--------+------------+\n",
            "| 54|  F|          ATA|      120|        273|        0|    Normal|  150|             N|    1.5|    Flat|           0|\n",
            "| 60|  M|          ASY|      100|        248|        0|    Normal|  125|             N|    1.0|    Flat|           1|\n",
            "| 53|  M|          ASY|      124|        260|        0|        ST|  112|             Y|    3.0|    Flat|           0|\n",
            "| 52|  M|          ATA|      120|        284|        0|    Normal|  118|             N|    0.0|      Up|           0|\n",
            "| 53|  F|          ATA|      113|        468|        0|    Normal|  127|             N|    0.0|      Up|           0|\n",
            "+---+---+-------------+---------+-----------+---------+----------+-----+--------------+-------+--------+------------+\n",
            "only showing top 5 rows\n",
            "\n"
          ]
        }
      ]
    },
    {
      "cell_type": "code",
      "source": [
        "rdd = df.rdd\n",
        "\n",
        "gender_count = rdd.map(lambda row: (row[\"Sex\"], 1)).reduceByKey(lambda a, b: a + b)\n",
        "gender_count.collect()"
      ],
      "metadata": {
        "colab": {
          "base_uri": "https://localhost:8080/"
        },
        "id": "Iku3jNibgCCi",
        "outputId": "4d68671b-b4c7-49f2-f990-800610744f70"
      },
      "execution_count": 10,
      "outputs": [
        {
          "output_type": "execute_result",
          "data": {
            "text/plain": [
              "[('M', 725), ('F', 193)]"
            ]
          },
          "metadata": {},
          "execution_count": 10
        }
      ]
    },
    {
      "cell_type": "code",
      "source": [
        "df.createOrReplaceTempView(\"data_penyakit\")\n",
        "\n",
        "spark.sql(\"SELECT Sex, COUNT(*) as Jumlah FROM data_penyakit GROUP BY Sex\").show()"
      ],
      "metadata": {
        "colab": {
          "base_uri": "https://localhost:8080/"
        },
        "id": "dYFbWWDdgFxN",
        "outputId": "2bef9389-74cf-43b5-8464-92c2b68b63d5"
      },
      "execution_count": 12,
      "outputs": [
        {
          "output_type": "stream",
          "name": "stdout",
          "text": [
            "+---+------+\n",
            "|Sex|Jumlah|\n",
            "+---+------+\n",
            "|  F|   193|\n",
            "|  M|   725|\n",
            "+---+------+\n",
            "\n"
          ]
        }
      ]
    },
    {
      "cell_type": "code",
      "source": [
        "print(\"\\nStatistik Cancer Dataset:\")\n",
        "df_cancer.select(\n",
        "    round(avg(\"Age\"), 2).alias(\"Rata-rata Usia\"),\n",
        "    round(avg(\"Genetic Risk\"), 2).alias(\"Rata-rata Risiko Genetik\")\n",
        ").show()"
      ],
      "metadata": {
        "colab": {
          "base_uri": "https://localhost:8080/"
        },
        "id": "3rlMLfowhBSx",
        "outputId": "9252606b-ceb6-49b4-88f6-651a7b66be6f"
      },
      "execution_count": 29,
      "outputs": [
        {
          "output_type": "stream",
          "name": "stdout",
          "text": [
            "\n",
            "Statistik Cancer Dataset:\n",
            "+--------------+------------------------+\n",
            "|Rata-rata Usia|Rata-rata Risiko Genetik|\n",
            "+--------------+------------------------+\n",
            "|         37.17|                    4.58|\n",
            "+--------------+------------------------+\n",
            "\n"
          ]
        }
      ]
    },
    {
      "cell_type": "code",
      "source": [
        "print(\"\\nFiltering pasien dengan risiko genetik > 0 dan usia > 50:\")\n",
        "df_cancer.filter((col(\"Genetic Risk\") > 0) & (col(\"Age\") > 50)).show(5)"
      ],
      "metadata": {
        "colab": {
          "base_uri": "https://localhost:8080/"
        },
        "id": "r1-vgcU-l3Og",
        "outputId": "05d69c27-e2d7-4fcc-a39c-db9f15ca0a6d"
      },
      "execution_count": 37,
      "outputs": [
        {
          "output_type": "stream",
          "name": "stdout",
          "text": [
            "\n",
            "Filtering pasien dengan risiko genetik > 0 dan usia > 50:\n",
            "+-----+----------+---+------+-------------+-----------+------------+--------------------+------------+--------------------+-------------+-------+-------+--------------+----------+-----------------+-------+-----------+-------------------+--------+---------------------+------------------------+-------------+---------+-------+------+\n",
            "|index|Patient Id|Age|Gender|Air Pollution|Alcohol use|Dust Allergy|OccuPational Hazards|Genetic Risk|chronic Lung Disease|Balanced Diet|Obesity|Smoking|Passive Smoker|Chest Pain|Coughing of Blood|Fatigue|Weight Loss|Shortness of Breath|Wheezing|Swallowing Difficulty|Clubbing of Finger Nails|Frequent Cold|Dry Cough|Snoring| Level|\n",
            "+-----+----------+---+------+-------------+-----------+------------+--------------------+------------+--------------------+-------------+-------+-------+--------------+----------+-----------------+-------+-----------+-------------------+--------+---------------------+------------------------+-------------+---------+-------+------+\n",
            "|    6|      P103| 52|     2|            2|          4|           5|                   4|           3|                   2|            2|      4|      3|             2|         2|                4|      3|          4|                  2|       2|                    3|                       1|            2|        3|      4|   Low|\n",
            "|   11|      P108| 64|     2|            6|          8|           7|                   7|           7|                   6|            7|      7|      7|             8|         7|                7|      9|          6|                  5|       7|                    2|                       4|            3|        1|      4|  High|\n",
            "|   15|      P111| 73|     1|            5|          6|           6|                   5|           6|                   5|            6|      5|      8|             5|         5|                5|      4|          3|                  6|       2|                    1|                       2|            1|        6|      2|Medium|\n",
            "|   21|      P117| 53|     2|            4|          5|           6|                   5|           5|                   4|            6|      7|      2|             3|         4|                8|      8|          7|                  9|       2|                    1|                       4|            6|        7|      2|  High|\n",
            "|   22|      P118| 62|     1|            6|          8|           7|                   7|           7|                   6|            7|      7|      8|             7|         7|                9|      3|          2|                  4|       1|                    4|                       2|            4|        2|      3|  High|\n",
            "+-----+----------+---+------+-------------+-----------+------------+--------------------+------------+--------------------+-------------+-------+-------+--------------+----------+-----------------+-------+-----------+-------------------+--------+---------------------+------------------------+-------------+---------+-------+------+\n",
            "only showing top 5 rows\n",
            "\n"
          ]
        }
      ]
    },
    {
      "cell_type": "code",
      "source": [
        "print(\"\\nRDD ReduceByKey - Gender Count (Cancer):\")\n",
        "rdd_cancer = df_cancer.rdd\n",
        "gender_cancer = rdd_cancer.map(lambda row: (row[\"Gender\"], 1)).reduceByKey(lambda a, b: a + b)\n",
        "for gender, count in gender_cancer.collect():\n",
        "    print(f\"{gender}: {count}\")"
      ],
      "metadata": {
        "colab": {
          "base_uri": "https://localhost:8080/"
        },
        "id": "iQ4uEtnAl6od",
        "outputId": "010c0440-d425-45d5-f5c7-e1f849a653cd"
      },
      "execution_count": 31,
      "outputs": [
        {
          "output_type": "stream",
          "name": "stdout",
          "text": [
            "\n",
            "RDD ReduceByKey - Gender Count (Cancer):\n",
            "1: 598\n",
            "2: 402\n"
          ]
        }
      ]
    },
    {
      "cell_type": "code",
      "source": [
        "df_cancer.createOrReplaceTempView(\"data_cancer\")\n",
        "print(\"\\nQuery jumlah pasien berdasarkan gender (Cancer):\")\n",
        "spark.sql(\"SELECT Gender, COUNT(*) as Jumlah FROM data_cancer GROUP BY Gender\").show()"
      ],
      "metadata": {
        "colab": {
          "base_uri": "https://localhost:8080/"
        },
        "id": "GgP8Rz83l_XB",
        "outputId": "5c51ebb1-73ef-47eb-9742-1063f181ebb8"
      },
      "execution_count": 32,
      "outputs": [
        {
          "output_type": "stream",
          "name": "stdout",
          "text": [
            "\n",
            "Query jumlah pasien berdasarkan gender (Cancer):\n",
            "+------+------+\n",
            "|Gender|Jumlah|\n",
            "+------+------+\n",
            "|     1|   598|\n",
            "|     2|   402|\n",
            "+------+------+\n",
            "\n"
          ]
        }
      ]
    },
    {
      "cell_type": "code",
      "source": [
        "print(\"\\nStatistik Liver Dataset:\")\n",
        "df_liver.select(\n",
        "    round(avg(\"Age\"), 2).alias(\"Rata-rata Usia\"),\n",
        "    round(avg(\"Total_Bilirubin\"), 2).alias(\"Rata-rata Bilirubin Total\")\n",
        ").show()"
      ],
      "metadata": {
        "colab": {
          "base_uri": "https://localhost:8080/"
        },
        "id": "CuJUSM9RmNOI",
        "outputId": "bdd0557b-a5c4-44ff-d44e-bec6eec5cc26"
      },
      "execution_count": 33,
      "outputs": [
        {
          "output_type": "stream",
          "name": "stdout",
          "text": [
            "\n",
            "Statistik Liver Dataset:\n",
            "+--------------+-------------------------+\n",
            "|Rata-rata Usia|Rata-rata Bilirubin Total|\n",
            "+--------------+-------------------------+\n",
            "|         44.75|                      3.3|\n",
            "+--------------+-------------------------+\n",
            "\n"
          ]
        }
      ]
    },
    {
      "cell_type": "code",
      "source": [
        "\n",
        "print(\"\\nFiltering pasien dengan Total_Bilirubin > 2 dan usia > 50:\")\n",
        "df_liver.filter((col(\"Total_Bilirubin\") > 2) & (col(\"Age\") > 50)).show(5)"
      ],
      "metadata": {
        "colab": {
          "base_uri": "https://localhost:8080/"
        },
        "id": "qTSppUc3mUUy",
        "outputId": "f546b821-7959-4ea5-c5d3-9d5abdcad234"
      },
      "execution_count": 34,
      "outputs": [
        {
          "output_type": "stream",
          "name": "stdout",
          "text": [
            "\n",
            "Filtering pasien dengan Total_Bilirubin > 2 dan usia > 50:\n",
            "+---+------+---------------+----------------+--------------------+------------------------+--------------------------+--------------+-------+--------------------------+-------+\n",
            "|Age|Gender|Total_Bilirubin|Direct_Bilirubin|Alkaline_Phosphotase|Alamine_Aminotransferase|Aspartate_Aminotransferase|Total_Protiens|Albumin|Albumin_and_Globulin_Ratio|Dataset|\n",
            "+---+------+---------------+----------------+--------------------+------------------------+--------------------------+--------------+-------+--------------------------+-------+\n",
            "| 62|  Male|           10.9|             5.5|                 699|                      64|                       100|           7.5|    3.2|                      0.74|      1|\n",
            "| 62|  Male|            7.3|             4.1|                 490|                      60|                        68|           7.0|    3.3|                      0.89|      1|\n",
            "| 72|  Male|            3.9|             2.0|                 195|                      27|                        59|           7.3|    2.4|                       0.4|      1|\n",
            "| 72|  Male|            2.7|             1.3|                 260|                      31|                        56|           7.4|    3.0|                       0.6|      1|\n",
            "| 51|  Male|            2.2|             1.0|                 610|                      17|                        28|           7.3|    2.6|                      0.55|      1|\n",
            "+---+------+---------------+----------------+--------------------+------------------------+--------------------------+--------------+-------+--------------------------+-------+\n",
            "only showing top 5 rows\n",
            "\n"
          ]
        }
      ]
    },
    {
      "cell_type": "code",
      "source": [
        "print(\"\\nRDD ReduceByKey - Gender Count (Liver):\")\n",
        "rdd_liver = df_liver.rdd\n",
        "gender_liver = rdd_liver.map(lambda row: (row[\"Gender\"], 1)).reduceByKey(lambda a, b: a + b)\n",
        "for gender, count in gender_liver.collect():\n",
        "    print(f\"{gender}: {count}\")"
      ],
      "metadata": {
        "colab": {
          "base_uri": "https://localhost:8080/"
        },
        "id": "gTLNP0OZmV0z",
        "outputId": "4650f103-e931-4d39-e7fc-540888317019"
      },
      "execution_count": 35,
      "outputs": [
        {
          "output_type": "stream",
          "name": "stdout",
          "text": [
            "\n",
            "RDD ReduceByKey - Gender Count (Liver):\n",
            "Female: 142\n",
            "Male: 441\n"
          ]
        }
      ]
    },
    {
      "cell_type": "code",
      "source": [
        "df_liver.createOrReplaceTempView(\"data_liver\")\n",
        "print(\"\\nQuery jumlah pasien berdasarkan gender (Liver):\")\n",
        "spark.sql(\"SELECT Gender, COUNT(*) as Jumlah FROM data_liver GROUP BY Gender\").show()"
      ],
      "metadata": {
        "colab": {
          "base_uri": "https://localhost:8080/"
        },
        "id": "Jqi6q3WCmYPX",
        "outputId": "fbf84e40-583e-435c-9542-8bedcd5a525a"
      },
      "execution_count": 36,
      "outputs": [
        {
          "output_type": "stream",
          "name": "stdout",
          "text": [
            "\n",
            "Query jumlah pasien berdasarkan gender (Liver):\n",
            "+------+------+\n",
            "|Gender|Jumlah|\n",
            "+------+------+\n",
            "|Female|   142|\n",
            "|  Male|   441|\n",
            "+------+------+\n",
            "\n"
          ]
        }
      ]
    },
    {
      "cell_type": "code",
      "source": [
        "# Simulasi pengolahan Heart Dataset pakai MPI\n",
        "\n",
        "data = [\n",
        "    {\"Sex\": \"M\"}, {\"Sex\": \"F\"}, {\"Sex\": \"M\"}, {\"Sex\": \"F\"},\n",
        "    {\"Sex\": \"F\"}, {\"Sex\": \"M\"}, {\"Sex\": \"M\"}, {\"Sex\": \"F\"}\n",
        "]\n",
        "\n",
        "comm = MPI.COMM_WORLD\n",
        "rank = comm.Get_rank()\n",
        "size = comm.Get_size()\n",
        "\n",
        "chunk_size = len(data) // size\n",
        "start = rank * chunk_size\n",
        "end = start + chunk_size if rank != size - 1 else len(data)\n",
        "local_data = data[start:end]\n",
        "\n",
        "# Hitung jumlah pria dan wanita di tiap proses\n",
        "local_result = {\"M\": 0, \"F\": 0}\n",
        "for item in local_data:\n",
        "    local_result[item[\"Sex\"]] += 1\n",
        "\n",
        "# Kumpulkan hasil ke proses 0\n",
        "global_result = comm.reduce(local_result, op=MPI.SUM, root=0)\n",
        "\n",
        "if rank == 0:\n",
        "    print(\"Hasil akhir jumlah gender (MPI Reduce):\", global_result)\n"
      ],
      "metadata": {
        "colab": {
          "base_uri": "https://localhost:8080/",
          "height": 399
        },
        "id": "EtT3FtUAncIJ",
        "outputId": "733b7c5a-7caf-4dce-c19e-a79ab68f6892"
      },
      "execution_count": 38,
      "outputs": [
        {
          "output_type": "error",
          "ename": "ModuleNotFoundError",
          "evalue": "No module named 'mpi4py'",
          "traceback": [
            "\u001b[0;31m---------------------------------------------------------------------------\u001b[0m",
            "\u001b[0;31mModuleNotFoundError\u001b[0m                       Traceback (most recent call last)",
            "\u001b[0;32m<ipython-input-38-49d4af91ae32>\u001b[0m in \u001b[0;36m<cell line: 0>\u001b[0;34m()\u001b[0m\n\u001b[1;32m      1\u001b[0m \u001b[0;31m# Simulasi pengolahan Heart Dataset pakai MPI\u001b[0m\u001b[0;34m\u001b[0m\u001b[0;34m\u001b[0m\u001b[0m\n\u001b[0;32m----> 2\u001b[0;31m \u001b[0;32mfrom\u001b[0m \u001b[0mmpi4py\u001b[0m \u001b[0;32mimport\u001b[0m \u001b[0mMPI\u001b[0m\u001b[0;34m\u001b[0m\u001b[0;34m\u001b[0m\u001b[0m\n\u001b[0m\u001b[1;32m      3\u001b[0m \u001b[0;34m\u001b[0m\u001b[0m\n\u001b[1;32m      4\u001b[0m data = [\n\u001b[1;32m      5\u001b[0m     \u001b[0;34m{\u001b[0m\u001b[0;34m\"Sex\"\u001b[0m\u001b[0;34m:\u001b[0m \u001b[0;34m\"M\"\u001b[0m\u001b[0;34m}\u001b[0m\u001b[0;34m,\u001b[0m \u001b[0;34m{\u001b[0m\u001b[0;34m\"Sex\"\u001b[0m\u001b[0;34m:\u001b[0m \u001b[0;34m\"F\"\u001b[0m\u001b[0;34m}\u001b[0m\u001b[0;34m,\u001b[0m \u001b[0;34m{\u001b[0m\u001b[0;34m\"Sex\"\u001b[0m\u001b[0;34m:\u001b[0m \u001b[0;34m\"M\"\u001b[0m\u001b[0;34m}\u001b[0m\u001b[0;34m,\u001b[0m \u001b[0;34m{\u001b[0m\u001b[0;34m\"Sex\"\u001b[0m\u001b[0;34m:\u001b[0m \u001b[0;34m\"F\"\u001b[0m\u001b[0;34m}\u001b[0m\u001b[0;34m,\u001b[0m\u001b[0;34m\u001b[0m\u001b[0;34m\u001b[0m\u001b[0m\n",
            "\u001b[0;31mModuleNotFoundError\u001b[0m: No module named 'mpi4py'",
            "",
            "\u001b[0;31m---------------------------------------------------------------------------\u001b[0;32m\nNOTE: If your import is failing due to a missing package, you can\nmanually install dependencies using either !pip or !apt.\n\nTo view examples of installing some common dependencies, click the\n\"Open Examples\" button below.\n\u001b[0;31m---------------------------------------------------------------------------\u001b[0m\n"
          ],
          "errorDetails": {
            "actions": [
              {
                "action": "open_url",
                "actionText": "Open Examples",
                "url": "/notebooks/snippets/importing_libraries.ipynb"
              }
            ]
          }
        }
      ]
    },
    {
      "cell_type": "code",
      "source": [
        "# Inisialisasi MPI\n",
        "comm = MPI.COMM_WORLD\n",
        "rank = comm.Get_rank()\n",
        "size = comm.Get_size()\n",
        "\n",
        "# Fungsi load dan bagi data\n",
        "def load_and_split(path):\n",
        "    df = pd.read_csv(path)\n",
        "    chunks = [df.iloc[i::size, :].reset_index(drop=True) for i in range(size)]\n",
        "    return chunks\n",
        "\n",
        "if rank == 0:\n",
        "    # Load dan split data untuk masing-masing dataset\n",
        "    heart_chunks = load_and_split(\"/heart.csv\")\n",
        "    cancer_chunks = load_and_split(\"/cancer patient data sets.csv\")\n",
        "    liver_chunks = load_and_split(\"/indian_liver_patient (1).csv\")\n",
        "else:\n",
        "    heart_chunks = None\n",
        "    cancer_chunks = None\n",
        "    liver_chunks = None\n",
        "\n",
        "# Scatter data ke masing-masing proses\n",
        "heart_chunk = comm.scatter(heart_chunks, root=0)\n",
        "cancer_chunk = comm.scatter(cancer_chunks, root=0)\n",
        "liver_chunk = comm.scatter(liver_chunks, root=0)\n",
        "\n",
        "# ================= HEART DATASET =================\n",
        "# Filter pasien dengan HeartDisease == 1\n",
        "heart_filtered = heart_chunk[heart_chunk[\"HeartDisease\"] == 1]\n",
        "heart_count_local = len(heart_filtered)\n",
        "heart_count_total = comm.reduce(heart_count_local, op=MPI.SUM, root=0)\n",
        "\n",
        "# ================= CANCER DATASET =================\n",
        "# Misal filter pasien dengan Level tertentu, ganti sesuai kolom di dataset\n",
        "# Contoh: Level == 'Low' (ubah sesuai dataset asli kamu)\n",
        "cancer_filtered = cancer_chunk[cancer_chunk[\"Level\"] == \"Low\"]\n",
        "cancer_count_local = len(cancer_filtered)\n",
        "cancer_count_total = comm.reduce(cancer_count_local, op=MPI.SUM, root=0)\n",
        "\n",
        "# ================= LIVER DATASET =================\n",
        "# Misal filter pasien dengan Dataset == 1 (ganti sesuai kolom dan kondisi dataset asli)\n",
        "liver_filtered = liver_chunk[liver_chunk[\"Dataset\"] == 1]\n",
        "liver_count_local = len(liver_filtered)\n",
        "liver_count_total = comm.reduce(liver_count_local, op=MPI.SUM, root=0)\n",
        "\n",
        "if rank == 0:\n",
        "    print(f\"Total pasien HeartDisease == 1: {heart_count_total}\")\n",
        "    print(f\"Total pasien Cancer Level == 'Low': {cancer_count_total}\")\n",
        "    print(f\"Total pasien Liver Dataset == 1: {liver_count_total}\")\n"
      ],
      "metadata": {
        "colab": {
          "base_uri": "https://localhost:8080/",
          "height": 399
        },
        "id": "qkRqs1aZoSfA",
        "outputId": "4fe14f78-5a1d-4f4c-efa3-4107433fe530"
      },
      "execution_count": 75,
      "outputs": [
        {
          "output_type": "error",
          "ename": "ModuleNotFoundError",
          "evalue": "No module named 'mpi4py'",
          "traceback": [
            "\u001b[0;31m---------------------------------------------------------------------------\u001b[0m",
            "\u001b[0;31mModuleNotFoundError\u001b[0m                       Traceback (most recent call last)",
            "\u001b[0;32m<ipython-input-75-60c39ee95e1a>\u001b[0m in \u001b[0;36m<cell line: 0>\u001b[0;34m()\u001b[0m\n\u001b[0;32m----> 1\u001b[0;31m \u001b[0;32mfrom\u001b[0m \u001b[0mmpi4py\u001b[0m \u001b[0;32mimport\u001b[0m \u001b[0mMPI\u001b[0m\u001b[0;34m\u001b[0m\u001b[0;34m\u001b[0m\u001b[0m\n\u001b[0m\u001b[1;32m      2\u001b[0m \u001b[0;32mimport\u001b[0m \u001b[0mpandas\u001b[0m \u001b[0;32mas\u001b[0m \u001b[0mpd\u001b[0m\u001b[0;34m\u001b[0m\u001b[0;34m\u001b[0m\u001b[0m\n\u001b[1;32m      3\u001b[0m \u001b[0;34m\u001b[0m\u001b[0m\n\u001b[1;32m      4\u001b[0m \u001b[0;31m# Inisialisasi MPI\u001b[0m\u001b[0;34m\u001b[0m\u001b[0;34m\u001b[0m\u001b[0m\n\u001b[1;32m      5\u001b[0m \u001b[0mcomm\u001b[0m \u001b[0;34m=\u001b[0m \u001b[0mMPI\u001b[0m\u001b[0;34m.\u001b[0m\u001b[0mCOMM_WORLD\u001b[0m\u001b[0;34m\u001b[0m\u001b[0;34m\u001b[0m\u001b[0m\n",
            "\u001b[0;31mModuleNotFoundError\u001b[0m: No module named 'mpi4py'",
            "",
            "\u001b[0;31m---------------------------------------------------------------------------\u001b[0;32m\nNOTE: If your import is failing due to a missing package, you can\nmanually install dependencies using either !pip or !apt.\n\nTo view examples of installing some common dependencies, click the\n\"Open Examples\" button below.\n\u001b[0;31m---------------------------------------------------------------------------\u001b[0m\n"
          ],
          "errorDetails": {
            "actions": [
              {
                "action": "open_url",
                "actionText": "Open Examples",
                "url": "/notebooks/snippets/importing_libraries.ipynb"
              }
            ]
          }
        }
      ]
    },
    {
      "cell_type": "code",
      "source": [
        "# Kolom yang kita butuhkan (supaya konsisten)\n",
        "columns_needed = [\"Age\", \"Sex\", \"JenisPenyakit\"]\n",
        "\n",
        "# Tambahkan kolom 'JenisPenyakit' di masing-masing dataset\n",
        "df_heart = df_heart.withColumn(\"JenisPenyakit\", lit(\"Heart Disease\"))\n",
        "df_cancer = df_cancer.withColumn(\"JenisPenyakit\", lit(\"Cancer\"))\n",
        "df_liver = df_liver.withColumn(\"JenisPenyakit\", lit(\"Liver Disease\"))\n",
        "\n",
        "def add_missing_cols(df, columns):\n",
        "    # Cek kolom yang gak ada\n",
        "    existing_cols = df.columns\n",
        "    missing_cols = [c for c in columns if c not in existing_cols]\n",
        "    # Tambahkan kolom kosong (null) dengan tipe string untuk yang hilang\n",
        "    for col_name in missing_cols:\n",
        "        df = df.withColumn(col_name, lit(None).cast(StringType()))\n",
        "    # Pilih kolom sesuai urutan yang diinginkan\n",
        "    return df.select(columns)\n",
        "\n",
        "# Perbaiki tiap dataframe agar kolomnya sama\n",
        "df_heart_fixed = add_missing_cols(df_heart, columns_needed)\n",
        "df_cancer_fixed = add_missing_cols(df_cancer, columns_needed)\n",
        "df_liver_fixed = add_missing_cols(df_liver, columns_needed)\n",
        "\n",
        "# Gabungkan semua\n",
        "df_all = df_heart_fixed.unionByName(df_cancer_fixed).unionByName(df_liver_fixed)\n",
        "\n",
        "df_all.show(5)\n"
      ],
      "metadata": {
        "colab": {
          "base_uri": "https://localhost:8080/"
        },
        "id": "8u_BAKBi1ZhC",
        "outputId": "74aff1f8-380c-4ac5-f539-ece314145b41"
      },
      "execution_count": 69,
      "outputs": [
        {
          "output_type": "stream",
          "name": "stdout",
          "text": [
            "+---+---+-------------+\n",
            "|Age|Sex|JenisPenyakit|\n",
            "+---+---+-------------+\n",
            "| 40|  M|Heart Disease|\n",
            "| 49|  F|Heart Disease|\n",
            "| 37|  M|Heart Disease|\n",
            "| 48|  F|Heart Disease|\n",
            "| 54|  M|Heart Disease|\n",
            "+---+---+-------------+\n",
            "only showing top 5 rows\n",
            "\n"
          ]
        }
      ]
    },
    {
      "cell_type": "code",
      "source": [
        "# Ambil list penyakit\n",
        "raw_data = df_all.select(\"JenisPenyakit\").dropna().rdd.map(lambda row: row[0]).collect()\n",
        "\n",
        "def count_disease(disease_list):\n",
        "    result = {}\n",
        "    for d in disease_list:\n",
        "        result[d] = result.get(d, 0) + 1\n",
        "    return result\n",
        "\n",
        "def merge_dicts(dicts):\n",
        "    merged = {}\n",
        "    for d in dicts:\n",
        "        for k, v in d.items():\n",
        "            merged[k] = merged.get(k, 0) + v\n",
        "    return merged\n",
        "\n",
        "# Bagi data ke core CPU\n",
        "chunks = np.array_split(raw_data, mp.cpu_count())\n",
        "\n",
        "# Jalankan simulasi MPI dengan multiprocessing\n",
        "with mp.Pool() as pool:\n",
        "    results = pool.map(count_disease, chunks)\n",
        "\n",
        "final_counts = merge_dicts(results)\n",
        "print(\"Jumlah penyakit (simulasi MPI):\")\n",
        "print(final_counts)\n"
      ],
      "metadata": {
        "colab": {
          "base_uri": "https://localhost:8080/"
        },
        "id": "2pmj7mSp09Pv",
        "outputId": "9ffc800b-2c76-4138-cc5b-a8bde94973e2"
      },
      "execution_count": 70,
      "outputs": [
        {
          "output_type": "stream",
          "name": "stdout",
          "text": [
            "Jumlah penyakit (simulasi MPI):\n",
            "{np.str_('Heart Disease'): 918, np.str_('Cancer'): 1000, np.str_('Liver Disease'): 583}\n"
          ]
        }
      ]
    },
    {
      "cell_type": "code",
      "source": [
        "# Kolom yang kita butuhkan (supaya konsisten)\n",
        "columns_needed = [\"Age\", \"Sex\", \"JenisPenyakit\"]\n",
        "\n",
        "# Tambahkan kolom 'JenisPenyakit' di masing-masing dataset\n",
        "df_heart = df_heart.withColumn(\"JenisPenyakit\", lit(\"Heart Disease\"))\n",
        "df_cancer = df_cancer.withColumn(\"JenisPenyakit\", lit(\"Cancer\"))\n",
        "df_liver = df_liver.withColumn(\"JenisPenyakit\", lit(\"Liver Disease\"))\n",
        "\n",
        "def add_missing_cols(df, columns):\n",
        "    existing_cols = df.columns\n",
        "    missing_cols = [c for c in columns if c not in existing_cols]\n",
        "    for col_name in missing_cols:\n",
        "        # Asumsikan Age tipe int, Sex dan JenisPenyakit string\n",
        "        if col_name == \"Age\":\n",
        "            df = df.withColumn(col_name, lit(None).cast(IntegerType()))\n",
        "        else:\n",
        "            df = df.withColumn(col_name, lit(None).cast(StringType()))\n",
        "    return df.select(columns)\n",
        "\n",
        "# Perbaiki tiap dataframe agar kolomnya sama\n",
        "df_heart_fixed = add_missing_cols(df_heart, columns_needed)\n",
        "df_cancer_fixed = add_missing_cols(df_cancer, columns_needed)\n",
        "df_liver_fixed = add_missing_cols(df_liver, columns_needed)\n",
        "\n",
        "# Gabungkan semua\n",
        "df_all = df_heart_fixed.unionByName(df_cancer_fixed).unionByName(df_liver_fixed)\n",
        "\n",
        "# Ambil data untuk multiprocessing\n",
        "raw_data = df_all.select(\"JenisPenyakit\", \"Sex\", \"Age\").dropna().rdd.map(lambda row: (row[0], row[1], row[2])).collect()\n",
        "\n",
        "# Fungsi hitung jumlah kasus JenisPenyakit\n",
        "def count_disease(disease_list):\n",
        "    result = {}\n",
        "    for d in disease_list:\n",
        "        key = d[0]\n",
        "        result[key] = result.get(key, 0) + 1\n",
        "    return result\n",
        "\n",
        "# Fungsi hitung distribusi Sex per JenisPenyakit\n",
        "def count_sex(data_list):\n",
        "    result = {}\n",
        "    for d in data_list:\n",
        "        key = (d[0], d[1])  # (JenisPenyakit, Sex)\n",
        "        result[key] = result.get(key, 0) + 1\n",
        "    return result\n",
        "\n",
        "# Fungsi hitung distribusi Age group per JenisPenyakit\n",
        "def count_age_group(data_list):\n",
        "    result = {}\n",
        "    for d in data_list:\n",
        "        age_raw = d[2]\n",
        "        try:\n",
        "            age = int(float(age_raw))  # coba konversi string ke float dulu, baru int\n",
        "        except:\n",
        "            continue  # skip data yang gak valid\n",
        "        age_group = f\"{(age//10)*10}-{(age//10)*10+9}\"\n",
        "        key = (d[0], age_group)\n",
        "        result[key] = result.get(key, 0) + 1\n",
        "    return result\n",
        "\n",
        "def merge_dicts(dicts):\n",
        "    merged = {}\n",
        "    for d in dicts:\n",
        "        for k, v in d.items():\n",
        "            merged[k] = merged.get(k, 0) + v\n",
        "    return merged\n",
        "\n",
        "# Bagi data ke core CPU\n",
        "chunks = np.array_split(raw_data, mp.cpu_count())\n",
        "\n",
        "with mp.Pool() as pool:\n",
        "    counts_disease = pool.map(count_disease, chunks)\n",
        "    counts_sex = pool.map(count_sex, chunks)\n",
        "    counts_age = pool.map(count_age_group, chunks)\n",
        "\n",
        "final_disease = merge_dicts(counts_disease)\n",
        "final_sex = merge_dicts(counts_sex)\n",
        "final_age = merge_dicts(counts_age)\n",
        "\n",
        "# Ubah ke pandas dataframe untuk plotting\n",
        "df_disease = pd.DataFrame(list(final_disease.items()), columns=[\"JenisPenyakit\", \"Jumlah\"])\n",
        "df_sex = pd.DataFrame([(k[0], k[1], v) for k,v in final_sex.items()], columns=[\"JenisPenyakit\", \"Sex\", \"Jumlah\"])\n",
        "df_age = pd.DataFrame([(k[0], k[1], v) for k,v in final_age.items()], columns=[\"JenisPenyakit\", \"AgeGroup\", \"Jumlah\"])\n",
        "\n",
        "# Plot jumlah kasus per penyakit\n",
        "plt.figure(figsize=(10,6))\n",
        "plt.bar(df_disease[\"JenisPenyakit\"], df_disease[\"Jumlah\"], color='skyblue')\n",
        "plt.title(\"Jumlah Kasus per Penyakit\")\n",
        "plt.xticks(rotation=45)\n",
        "plt.ylabel(\"Jumlah\")\n",
        "plt.show()\n",
        "\n",
        "# Plot distribusi jenis kelamin per penyakit\n",
        "plt.figure(figsize=(10,6))\n",
        "for penyakit in df_sex[\"JenisPenyakit\"].unique():\n",
        "    subset = df_sex[df_sex[\"JenisPenyakit\"] == penyakit]\n",
        "    plt.bar(subset[\"Sex\"] + \" (\" + penyakit + \")\", subset[\"Jumlah\"], label=penyakit)\n",
        "plt.title(\"Distribusi Jenis Kelamin per Penyakit\")\n",
        "plt.xticks(rotation=45)\n",
        "plt.ylabel(\"Jumlah\")\n",
        "plt.show()\n",
        "\n",
        "# Plot distribusi kelompok umur per penyakit\n",
        "plt.figure(figsize=(12,6))\n",
        "for penyakit in df_age[\"JenisPenyakit\"].unique():\n",
        "    subset = df_age[df_age[\"JenisPenyakit\"] == penyakit]\n",
        "    plt.plot(subset[\"AgeGroup\"], subset[\"Jumlah\"], marker='o', label=penyakit)\n",
        "plt.title(\"Distribusi Kelompok Umur per Penyakit\")\n",
        "plt.xticks(rotation=45)\n",
        "plt.ylabel(\"Jumlah\")\n",
        "plt.legend()\n",
        "plt.show()\n"
      ],
      "metadata": {
        "colab": {
          "base_uri": "https://localhost:8080/",
          "height": 1000
        },
        "id": "AQFyTZ7d4Y-I",
        "outputId": "55c2d55d-638e-4cc8-f76b-8efe8ee9a1d9"
      },
      "execution_count": 81,
      "outputs": [
        {
          "output_type": "display_data",
          "data": {
            "text/plain": [
              "<Figure size 1000x600 with 1 Axes>"
            ],
            "image/png": "[encoded data removed]"
          },
          "metadata": {}
        },
        {
          "output_type": "display_data",
          "data": {
            "text/plain": [
              "<Figure size 1000x600 with 1 Axes>"
            ],
            "image/png": "[encoded data removed]"
          },
          "metadata": {}
        },
        {
          "output_type": "display_data",
          "data": {
            "text/plain": [
              "<Figure size 1200x600 with 1 Axes>"
            ],
            "image/png": "[encoded data removed]"
          },
          "metadata": {}
        }
      ]
    },
    {
      "cell_type": "code",
      "source": [
        "import psutil\n",
        "print(f\"Jumlah CPU tersedia: {psutil.cpu_count(logical=True)}\")\n",
        "print(f\"Penggunaan CPU saat ini: {psutil.cpu_percent()}%\")\n"
      ],
      "metadata": {
        "colab": {
          "base_uri": "https://localhost:8080/"
        },
        "id": "c6J6haT0165d",
        "outputId": "2e032ced-4792-4bda-97d7-d8ec175aebbb"
      },
      "execution_count": 79,
      "outputs": [
        {
          "output_type": "stream",
          "name": "stdout",
          "text": [
            "Jumlah CPU tersedia: 2\n",
            "Penggunaan CPU saat ini: 14.8%\n"
          ]
        }
      ]
    }
  ]
}